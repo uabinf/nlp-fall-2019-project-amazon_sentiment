{
 "cells": [
  {
   "cell_type": "markdown",
   "metadata": {},
   "source": [
    "# Cross-Domain Sentiment Analysis Study\n",
    "NLP Group Project\n",
    "\n",
    "Atulya Shetty, Payton Walker"
   ]
  },
  {
   "cell_type": "code",
   "execution_count": 56,
   "metadata": {},
   "outputs": [],
   "source": [
    "import pandas as pd\n",
    "from sklearn.model_selection import train_test_split\n"
   ]
  },
  {
   "cell_type": "code",
   "execution_count": 61,
   "metadata": {},
   "outputs": [],
   "source": [
    "def imdb_data(test_size=0.2):\n",
    "    \"\"\" \n",
    "        Retrieves IMDB data movie review dataset\n",
    "        \n",
    "        Parameters:\n",
    "        test_size = float, optional (default=0.2)\n",
    "        \n",
    "        Returns:\n",
    "        Tuple containing training and test data for IMBD movie reviews and their sentiment\n",
    "        \n",
    "    \"\"\"\n",
    "    imdb_file = 'data/imdb.csv'\n",
    "    imdb_df = pd.read_csv(imdb_file)\n",
    "    X, y = imdb_df.review, imdb_df.sentiment\n",
    "    train_review, test_review, train_sent, test_sent = train_test_split(X, y, test_size= 0.2, random_state=1)\n",
    "    return (train_review, test_review, train_sent, test_sent)"
   ]
  },
  {
   "cell_type": "code",
   "execution_count": 62,
   "metadata": {},
   "outputs": [],
   "source": [
    "imdb_train_review, imdb_test_review, imdb_train_sent, imdb_test_sent = imdb_data()"
   ]
  },
  {
   "cell_type": "code",
   "execution_count": 77,
   "metadata": {},
   "outputs": [],
   "source": [
    "def yelp_data(test_size=0.2):\n",
    "    \n",
    "    \"\"\" \n",
    "        Parameters:\n",
    "        test_size = float, optional (default=0.2)\n",
    "        \n",
    "        Returns:\n",
    "        Tuple containing training and test data for Yelp reviews\n",
    "        \n",
    "    \"\"\"\n",
    "    yelp_file = 'data/yelp.csv'\n",
    "    yelp_df = pd.read_csv(yelp_file)\n",
    "    X, y = yelp_df.text, yelp_df.stars\n",
    "    train_review, test_review, train_sent, test_sent = train_test_split(X, y, test_size= 0.2, random_state=1)\n",
    "    return (train_review, test_review, train_sent, test_sent)"
   ]
  },
  {
   "cell_type": "code",
   "execution_count": 78,
   "metadata": {},
   "outputs": [],
   "source": [
    "yelp_train_review, yelp_test_review, yelp_train_sent, yelp_test_sent = yelp_data()"
   ]
  },
  {
   "cell_type": "code",
   "execution_count": 82,
   "metadata": {},
   "outputs": [
    {
     "data": {
      "text/plain": [
       "9953    1\n",
       "3850    4\n",
       "4962    5\n",
       "3886    5\n",
       "5437    2\n",
       "8517    5\n",
       "2041    5\n",
       "1989    2\n",
       "1933    3\n",
       "9984    1\n",
       "8418    3\n",
       "2418    4\n",
       "6811    4\n",
       "1217    5\n",
       "6978    5\n",
       "6111    5\n",
       "7865    4\n",
       "7781    4\n",
       "7775    3\n",
       "7039    5\n",
       "7673    2\n",
       "2907    4\n",
       "1266    5\n",
       "2370    4\n",
       "3092    5\n",
       "130     3\n",
       "1988    4\n",
       "7877    3\n",
       "6450    3\n",
       "6880    4\n",
       "       ..\n",
       "4272    3\n",
       "1690    3\n",
       "3211    4\n",
       "7011    5\n",
       "5189    5\n",
       "6257    5\n",
       "3986    2\n",
       "7750    3\n",
       "4920    5\n",
       "6039    5\n",
       "6737    5\n",
       "2506    4\n",
       "6977    1\n",
       "85      4\n",
       "7694    5\n",
       "1074    5\n",
       "6431    3\n",
       "8372    3\n",
       "8331    5\n",
       "3682    4\n",
       "3592    2\n",
       "115     4\n",
       "2215    4\n",
       "9972    4\n",
       "6200    3\n",
       "3919    5\n",
       "162     2\n",
       "7903    5\n",
       "2242    2\n",
       "2745    5\n",
       "Name: stars, Length: 2000, dtype: int64"
      ]
     },
     "execution_count": 82,
     "metadata": {},
     "output_type": "execute_result"
    }
   ],
   "source": [
    "yelp_test_sent"
   ]
  },
  {
   "cell_type": "code",
   "execution_count": null,
   "metadata": {},
   "outputs": [],
   "source": []
  }
 ],
 "metadata": {
  "kernelspec": {
   "display_name": "Python 3",
   "language": "python",
   "name": "python3"
  },
  "language_info": {
   "codemirror_mode": {
    "name": "ipython",
    "version": 3
   },
   "file_extension": ".py",
   "mimetype": "text/x-python",
   "name": "python",
   "nbconvert_exporter": "python",
   "pygments_lexer": "ipython3",
   "version": "3.7.1"
  }
 },
 "nbformat": 4,
 "nbformat_minor": 2
}
